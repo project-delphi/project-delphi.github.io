{
 "cells": [
  {
   "cell_type": "markdown",
   "metadata": {},
   "source": [
    "# Classification Without Features\n",
    "\n",
    "Classification is applicable to new instances of categorical data - data that belongs to one of several types (or classes). The major types are:\n",
    "\n",
    "* binary classes\n",
    "* mulitnomial classes\n",
    "* ordinal classes\n",
    "\n",
    "When there are no features, one can describe the distribution and build classifiers that make use of the distributional information."
   ]
  },
  {
   "cell_type": "code",
   "execution_count": null,
   "metadata": {},
   "outputs": [],
   "source": []
  }
 ],
 "metadata": {
  "kernelspec": {
   "display_name": "Python 3",
   "language": "python",
   "name": "python3"
  },
  "language_info": {
   "codemirror_mode": {
    "name": "ipython",
    "version": 3
   },
   "file_extension": ".py",
   "mimetype": "text/x-python",
   "name": "python",
   "nbconvert_exporter": "python",
   "pygments_lexer": "ipython3",
   "version": "3.7.3"
  },
  "nikola": {
   "category": "",
   "date": "2019-09-17 20:28:45 UTC-04:00",
   "description": "",
   "link": "",
   "slug": "featureless-machine-learning-classification",
   "tags": "",
   "title": "Featureless Machine Learning: Classification",
   "type": "text"
  },
  "toc": {
   "base_numbering": 1,
   "nav_menu": {},
   "number_sections": true,
   "sideBar": true,
   "skip_h1_title": false,
   "title_cell": "Table of Contents",
   "title_sidebar": "Contents",
   "toc_cell": false,
   "toc_position": {},
   "toc_section_display": true,
   "toc_window_display": false
  }
 },
 "nbformat": 4,
 "nbformat_minor": 2
}
