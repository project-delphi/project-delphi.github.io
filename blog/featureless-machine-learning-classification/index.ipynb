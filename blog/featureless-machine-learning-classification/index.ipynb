{
 "cells": [
  {
   "cell_type": "markdown",
   "metadata": {},
   "source": [
    "# Classification Without Features\n",
    "\n",
    "Classification is applicable to new instances of categorical data - data that belongs to one of several types (or classes), the number of classes usually inferred from the data. This is discrete data. The major types of classes are:\n",
    "\n",
    "* binary (only two classes)\n",
    "* multinomial (K classes with $K \\geq 1$)\n",
    "* ordinal (K classes with an ordering relation between them)\n",
    "\n",
    "When there are no features, we can work with categorical data:\n",
    "\n",
    "* describe the data with the distribution over the classes\n",
    "* summarize the distribution with statistics\n",
    "* instantiate classifiers that make use of the distribution\n",
    "* generate sample variates from the distribution\n",
    "* make use of bar charts, pie charts and tables to specify the distribution\n",
    "* produce ROC, AUC metrics and their charts for featureless classifiers.\n",
    "\n",
    "\n",
    "If the data is a sample (usually the case), then the sample distribution is used as a proxy for the true distribution. The other useful strategy is use ensembling (such as bootstrap) to have a more robust (and less sticky to the data) estimate of the distribution. \n",
    "\n",
    "If the number of classes, K is very large (>15) - then interpreting charts becomes almost impossible - other than coarse proportions of the most frequent classes. The relativities don't come across well in charts or tables - so understanding is lost - unless the distribution is flat or dominated by a few classes; one might do well to aggregate the classes back up again.\n",
    "\n",
    "So let's roll these descriptions and predictions out using pandas, statsmodels, seaborn and sklearn."
   ]
  },
  {
   "cell_type": "code",
   "execution_count": null,
   "metadata": {},
   "outputs": [],
   "source": []
  }
 ],
 "metadata": {
  "kernelspec": {
   "display_name": "Python 3",
   "language": "python",
   "name": "python3"
  },
  "language_info": {
   "codemirror_mode": {
    "name": "ipython",
    "version": 3
   },
   "file_extension": ".py",
   "mimetype": "text/x-python",
   "name": "python",
   "nbconvert_exporter": "python",
   "pygments_lexer": "ipython3",
   "version": "3.7.3"
  },
  "nikola": {
   "category": "",
   "date": "2019-09-17 20:28:45 UTC-04:00",
   "description": "",
   "link": "",
   "slug": "featureless-machine-learning-classification",
   "tags": "",
   "title": "Featureless Machine Learning: Classification",
   "type": "text"
  },
  "toc": {
   "base_numbering": 1,
   "nav_menu": {},
   "number_sections": true,
   "sideBar": true,
   "skip_h1_title": false,
   "title_cell": "Table of Contents",
   "title_sidebar": "Contents",
   "toc_cell": false,
   "toc_position": {},
   "toc_section_display": true,
   "toc_window_display": false
  }
 },
 "nbformat": 4,
 "nbformat_minor": 2
}
