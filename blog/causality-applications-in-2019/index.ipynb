{
 "cells": [
  {
   "cell_type": "markdown",
   "metadata": {},
   "source": [
    "# Causality: Applications in 2019\n",
    "\n",
    "It's now well established that there are [two cultures in data modelling](http://www.stat.cmu.edu/~ryantibs/journalclub/breiman_2001.pdf). These cultures are focused on one of:\n",
    "\n",
    "* prediction (discriminative modeling), or\n",
    "* causality inferred from a data generating model (generative modeling)\n",
    "\n",
    "Much of the machine learning community has used algorithmic solutions for prediction. Causality has not received as much attention in recent applications.\n",
    "\n",
    "There are three main schools of thought addressing causality:\n",
    "\n",
    "* Computer Science\n",
    "* Statistics\n",
    "* Econometrics\n",
    "\n",
    "In another post we'll get into the details of these approaches (they all focus on how to block and account for confounders and aggregation strategies over the levels of blocked confounders).\n",
    "\n",
    "In an ideal world we would perform experiments and confidently find causal links between variables. However, most of the data being generated is observational which presents some challenges. \n",
    "\n",
    "## AIOps\n",
    "\n",
    "In AIOps (using ML to aid solving Ops problems) some of the problems need prediction. However, given the cost of appliances and need for preemptive action before problems such as failure or delays occur, there is a need to identify which subset of features affect a target and how they do so.\n",
    "\n",
    "## Growth Hacking\n",
    "\n",
    "Growth Hacking is a set of principles to achieve fast sustainable growth using low cost alternatives to traditional marketing. Growth is usually defined as number of recurring users. \n",
    "\n",
    "The traditional measure of causality is to perform A/B testing controlling for confounding on features. Statistically if we measure number of users, we're looking at Poisson distribution or binomial estimate of changes in proportions. Alternatively, Poisson processes can be used to model the distribution.\n",
    "\n",
    "One rather important metric in growth hacking is the user retention rate. One way that this could be causally measured would be to leverage survival analysis methodology - again controlling for confounding.\n",
    "\n",
    "Of course in a fast growing business the features are usually confounding and changing rapidly. This presents a set of challenges which need to be carefully teased apart.\n",
    "\n",
    "## Customer Sentiment\n",
    "\n",
    "Finding the levers of customer or user sentiment is an open problem. That is identifying those features which \n",
    "\n",
    "A lot of these causal problems are related to data that is graphical (nodes and edges) by nature. It will be interesting to see how these develop.\n"
   ]
  },
  {
   "cell_type": "code",
   "execution_count": null,
   "metadata": {},
   "outputs": [],
   "source": []
  }
 ],
 "metadata": {
  "kernelspec": {
   "display_name": "Python 3",
   "language": "python",
   "name": "python3"
  },
  "language_info": {
   "codemirror_mode": {
    "name": "ipython",
    "version": 3
   },
   "file_extension": ".py",
   "mimetype": "text/x-python",
   "name": "python",
   "nbconvert_exporter": "python",
   "pygments_lexer": "ipython3",
   "version": "3.7.3"
  },
  "nikola": {
   "category": "",
   "date": "2019-09-16 17:22:26 UTC-04:00",
   "description": "",
   "link": "",
   "slug": "causality-applications-in-2019",
   "tags": "",
   "title": "Causality Applications In 2019",
   "type": "text"
  },
  "toc": {
   "base_numbering": 1,
   "nav_menu": {},
   "number_sections": true,
   "sideBar": true,
   "skip_h1_title": false,
   "title_cell": "Table of Contents",
   "title_sidebar": "Contents",
   "toc_cell": false,
   "toc_position": {},
   "toc_section_display": true,
   "toc_window_display": false
  }
 },
 "nbformat": 4,
 "nbformat_minor": 2
}
