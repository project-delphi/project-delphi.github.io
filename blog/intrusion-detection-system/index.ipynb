{
 "cells": [
  {
   "cell_type": "markdown",
   "metadata": {},
   "source": [
    "Write your post here."
   ]
  }
 ],
 "metadata": {
  "kernelspec": {
   "display_name": "Python 3",
   "env": {},
   "interrupt_mode": "signal",
   "language": "python",
   "metadata": {},
   "name": "python3"
  },
  "nikola": {
   "category": "",
   "date": "2019-09-16 22:59:26 UTC-04:00",
   "description": "",
   "link": "",
   "slug": "intrusion-detection-system",
   "tags": "",
   "title": "Intrusion Detection System",
   "type": "text"
  }
 },
 "nbformat": 4,
 "nbformat_minor": 2
}
