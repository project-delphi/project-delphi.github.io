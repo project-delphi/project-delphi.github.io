{
 "cells": [
  {
   "cell_type": "markdown",
   "metadata": {},
   "source": [
    "# Featureless Machine Learning"
   ]
  },
  {
   "cell_type": "markdown",
   "metadata": {},
   "source": [
    "Often it helps to refresh grounding in the fundamentals. I'm writing a sequence of posts to touch base with some machine learning/stats techniques - but without features.\n",
    "\n",
    "Without features, we are forced to focus on the learning task with just univariate data. This give context to charts and often flattens the cute maths that we can spend too much time on.\n",
    "\n",
    "In the major cultural split of prediction and causation - there really isn't much causation without features - that's the whole point of causation to link some subset of features to an outcome or target [1](https://arxiv.org/pdf/1101.0891.pdf).\n",
    "\n",
    "One other reason to do this, is that when features are held constant at some level - say for some kind of causality analysis - we can still look at the univariate variable of interest.\n",
    "\n",
    "Let's break our foray into featureless machine learning using the standard groupings for ML algorithms. That is:\n",
    "\n",
    "* Supervised Learning\n",
    "    - Classification\n",
    "    - Regression\n",
    "* Unsupervised Learning \n",
    "    - Data Reduction\n",
    "    - Clustering\n",
    "\n",
    "When there are no features, these groupings are referenced by other names - such as density estimation or mixture of distributions. We'll break these into separate posts focused on each group of problems.\n",
    "\n",
    "(We won't dwell on reinforcement learning, since I don't have enough exposure to the area to discuss it.)"
   ]
  },
  {
   "cell_type": "code",
   "execution_count": null,
   "metadata": {},
   "outputs": [],
   "source": []
  }
 ],
 "metadata": {
  "kernelspec": {
   "display_name": "Python 3",
   "language": "python",
   "name": "python3"
  },
  "language_info": {
   "codemirror_mode": {
    "name": "ipython",
    "version": 3
   },
   "file_extension": ".py",
   "mimetype": "text/x-python",
   "name": "python",
   "nbconvert_exporter": "python",
   "pygments_lexer": "ipython3",
   "version": "3.7.3"
  },
  "nikola": {
   "category": "",
   "date": "2019-09-16 14:38:54 UTC-04:00",
   "description": "",
   "link": "",
   "slug": "featureless-machine-learning",
   "tags": "",
   "title": "Featureless Machine Learning",
   "type": "text"
  },
  "toc": {
   "base_numbering": 1,
   "nav_menu": {},
   "number_sections": true,
   "sideBar": true,
   "skip_h1_title": false,
   "title_cell": "Table of Contents",
   "title_sidebar": "Contents",
   "toc_cell": false,
   "toc_position": {},
   "toc_section_display": true,
   "toc_window_display": false
  }
 },
 "nbformat": 4,
 "nbformat_minor": 2
}
