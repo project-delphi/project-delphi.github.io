{
 "cells": [
  {
   "cell_type": "markdown",
   "metadata": {},
   "source": [
    "# AIOps vs MLOps\n",
    "\n",
    "I'm going to be speaking on MLOps soon. I also came across the term *AIOps* in my preparation. Initially I had thought it was just a buzzy synonym for MLOps. However, after investigating some more, it seems at least some organizations differentiate between the two.\n",
    "\n",
    "## MLOps\n",
    "\n",
    "MLOps is the process of taking a ML solution and bringing it to production. It needs a culture and tools that connect concerns in ML systems development with concerns in ML systems operations - [[1]](https://papers.nips.cc/paper/5656-hidden-technical-debt-in-machine-learning-systems.pdf). This touches on a number of themes such as CI/CD, data reliability, monitoring, scaling, decoupling, and fast deployment to production, avoiding fragile systems.  \n",
    "\n",
    "## AIOps\n",
    "\n",
    "Ops, or Operations - already went through a revolution known as DevOps - where changes and deployment became something that an application developer can do by using cloud services and orchestration software.\n",
    "\n",
    "AIOps is about bringing machine learning techniques to solve Ops problems such as reliability, monitoring, capacity management, service desks and even more automation than natively available through DevOps - [[2]](https://www.lakesidesoftware.com/blog/guide-aiops-tools-2019-how-choose-key-concepts).\n",
    "\n",
    "\n",
    "## Causality\n",
    "\n",
    "One interesting aspect of AIOps is that causality is very important to many of the problems in the space. That is knowing the cause of problems and possible solutions is as important as predicting problems such as failure.\n",
    "\n",
    "In many traditionally ML algorithms, causality is not the focus and it is left to the realm of statistics to identify which features cause changes in the target - [[3]](http://w3.mi.parisdescartes.fr/~chambaz/Atelier209/07vanderLaan.pdf). \n"
   ]
  },
  {
   "cell_type": "code",
   "execution_count": null,
   "metadata": {},
   "outputs": [],
   "source": []
  }
 ],
 "metadata": {
  "kernelspec": {
   "display_name": "Python 3",
   "language": "python",
   "name": "python3"
  },
  "language_info": {
   "codemirror_mode": {
    "name": "ipython",
    "version": 3
   },
   "file_extension": ".py",
   "mimetype": "text/x-python",
   "name": "python",
   "nbconvert_exporter": "python",
   "pygments_lexer": "ipython3",
   "version": "3.7.3"
  },
  "nikola": {
   "category": "",
   "date": "2019-09-16 15:53:44 UTC-04:00",
   "description": "",
   "link": "",
   "slug": "aiops-vs-mlops",
   "tags": "",
   "title": "AIOps vs MLOps",
   "type": "text"
  },
  "toc": {
   "base_numbering": 1,
   "nav_menu": {},
   "number_sections": true,
   "sideBar": true,
   "skip_h1_title": false,
   "title_cell": "Table of Contents",
   "title_sidebar": "Contents",
   "toc_cell": false,
   "toc_position": {},
   "toc_section_display": true,
   "toc_window_display": false
  }
 },
 "nbformat": 4,
 "nbformat_minor": 2
}
