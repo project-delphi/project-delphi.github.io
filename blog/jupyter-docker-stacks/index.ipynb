{
 "cells": [
  {
   "cell_type": "markdown",
   "metadata": {},
   "source": [
    "Write your post here."
   ]
  }
 ],
 "metadata": {
  "kernelspec": {
   "display_name": "Python 3",
   "env": {},
   "interrupt_mode": "signal",
   "language": "python",
   "metadata": {},
   "name": "python3"
  },
  "nikola": {
   "category": "",
   "date": "2019-10-21 06:25:28 UTC-04:00",
   "description": "",
   "link": "",
   "slug": "jupyter-docker-stacks",
   "tags": "",
   "title": "Jupyter Docker Stacks",
   "type": "text"
  }
 },
 "nbformat": 4,
 "nbformat_minor": 2
}
