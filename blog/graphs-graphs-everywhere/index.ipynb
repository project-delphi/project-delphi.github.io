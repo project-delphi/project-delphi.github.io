{
 "cells": [
  {
   "cell_type": "markdown",
   "metadata": {},
   "source": [
    "# Graphs, Graphs, Everywhere\n",
    "\n",
    "I've revisited [mathematical graphs](https://en.wikipedia.org/wiki/Graph_theory) (as opposed to [charts](https://en.wikipedia.org/wiki/Chart)) in a number of settings in recent weeks. It's great to see graph theory at work in the world of 1's and 0's.\n",
    "\n",
    "\n",
    "## Git\n",
    "\n",
    "I'm preparing a short course on git - and the most natural way to introduce the topic is with mathematical graphs. There's a lot to this perspective but broadly - commits are child nodes of earlier commits, going back to the root. Branches are just movable pointers to different commits.\n",
    "\n",
    "## Machine Learning On Graphs\n",
    "\n",
    "Arxiv papers are regularly raising the issue that many of the successful algorithms in Machine Learning depend on euclidean distance between points - [[1]](https://arxiv.org/pdf/1611.08097.pdf). However so much of our experiences and real world data records are not euclidean - in particular metric geometry seldom holds. There's been an explosion of research in applying graphs and manifolds as inputs and outputs to machine learning.\n",
    "\n",
    "### Neural Networks\n",
    "\n",
    "Superficially choosing a neural network architecture is all about choosing a graph structure where inputs can flow to outputs over the edges, with many layers (Deep Learning) producing impressive results for a range of problems. Recurrent Neural Networks are also a type of graph, a linked list. Just worth noting the graphs, but tangential to non-euclidean learning.\n",
    "\n",
    "Convolutional neural networks - can be cast as local graph filters convolving to tensor data - particularly pixel data.\n",
    "\n",
    "### Relationship Networks\n",
    "\n",
    "More interesting, relationship networks data is being generated all the time. People and businesses can be observed as nodes and the relationships, transactions between them as edges connecting nodes.\n",
    "\n",
    "There is active research on graphs with convolutional learning to learn graph structure with astounding results - [[2]](https://tkipf.github.io/graph-convolutional-networks/). \n",
    "\n",
    "Such networks are non-metric and more so, non-euclidean by nature; graphs are just a natural way to model them.\n",
    "\n",
    "### Causality\n",
    "\n",
    "In trying to understand causality, assuming we have enough relevant covariates, then blocking confounders allows *ignorability* to hold and then aggregation can be applied to estimate causal relationships.\n",
    "\n",
    "One popular way to do this is using Judea Pearl's do-calculus on DAGs of probability distributions and relationships between covariates and targets. Although somewhat unwieldy this is a promising area to model causality - along with variational Bayes methods. These DAG's are just graph structures where the relationships between variables are edges, and the variables themselves are node.\n",
    "\n",
    "Graphs seem to be occurring with increasing regularity. Their use to solve problems will be fascinating.\n",
    "\n",
    "Watch. This. Space."
   ]
  },
  {
   "cell_type": "code",
   "execution_count": null,
   "metadata": {},
   "outputs": [],
   "source": []
  }
 ],
 "metadata": {
  "kernelspec": {
   "display_name": "Python 3",
   "language": "python",
   "name": "python3"
  },
  "language_info": {
   "codemirror_mode": {
    "name": "ipython",
    "version": 3
   },
   "file_extension": ".py",
   "mimetype": "text/x-python",
   "name": "python",
   "nbconvert_exporter": "python",
   "pygments_lexer": "ipython3",
   "version": "3.7.3"
  },
  "nikola": {
   "category": "",
   "date": "2019-09-16 17:17:40 UTC-04:00",
   "description": "",
   "link": "",
   "slug": "graphs-graphs-everywhere",
   "tags": "",
   "title": "Graphs, Graphs, Everywhere",
   "type": "text"
  },
  "toc": {
   "base_numbering": 1,
   "nav_menu": {},
   "number_sections": true,
   "sideBar": true,
   "skip_h1_title": false,
   "title_cell": "Table of Contents",
   "title_sidebar": "Contents",
   "toc_cell": false,
   "toc_position": {},
   "toc_section_display": true,
   "toc_window_display": false
  }
 },
 "nbformat": 4,
 "nbformat_minor": 2
}
